{
 "cells": [
  {
   "cell_type": "code",
   "execution_count": 2,
   "metadata": {},
   "outputs": [
    {
     "name": "stdout",
     "output_type": "stream",
     "text": [
      "Collecting SpeechRecognition\n",
      "  Downloading SpeechRecognition-3.10.3-py2.py3-none-any.whl (32.8 MB)\n",
      "     --------------------------------------- 32.8/32.8 MB 31.2 MB/s eta 0:00:00\n",
      "Requirement already satisfied: typing-extensions in c:\\users\\bytin\\anaconda3\\lib\\site-packages (from SpeechRecognition) (4.9.0)\n",
      "Requirement already satisfied: requests>=2.26.0 in c:\\users\\bytin\\anaconda3\\lib\\site-packages (from SpeechRecognition) (2.28.1)\n",
      "Requirement already satisfied: idna<4,>=2.5 in c:\\users\\bytin\\anaconda3\\lib\\site-packages (from requests>=2.26.0->SpeechRecognition) (3.3)\n",
      "Requirement already satisfied: urllib3<1.27,>=1.21.1 in c:\\users\\bytin\\anaconda3\\lib\\site-packages (from requests>=2.26.0->SpeechRecognition) (1.26.11)\n",
      "Requirement already satisfied: charset-normalizer<3,>=2 in c:\\users\\bytin\\anaconda3\\lib\\site-packages (from requests>=2.26.0->SpeechRecognition) (2.0.4)\n",
      "Requirement already satisfied: certifi>=2017.4.17 in c:\\users\\bytin\\anaconda3\\lib\\site-packages (from requests>=2.26.0->SpeechRecognition) (2022.9.14)\n",
      "Installing collected packages: SpeechRecognition\n",
      "Successfully installed SpeechRecognition-3.10.3\n",
      "Note: you may need to restart the kernel to use updated packages.\n"
     ]
    },
    {
     "name": "stderr",
     "output_type": "stream",
     "text": [
      "WARNING: Ignoring invalid distribution -ensorflow-intel (c:\\users\\bytin\\anaconda3\\lib\\site-packages)\n",
      "WARNING: Ignoring invalid distribution -ensorflow-intel (c:\\users\\bytin\\anaconda3\\lib\\site-packages)\n",
      "WARNING: Ignoring invalid distribution -ensorflow-intel (c:\\users\\bytin\\anaconda3\\lib\\site-packages)\n",
      "WARNING: Ignoring invalid distribution -ensorflow-intel (c:\\users\\bytin\\anaconda3\\lib\\site-packages)\n",
      "WARNING: Ignoring invalid distribution -ensorflow-intel (c:\\users\\bytin\\anaconda3\\lib\\site-packages)\n",
      "WARNING: Ignoring invalid distribution -ensorflow-intel (c:\\users\\bytin\\anaconda3\\lib\\site-packages)\n",
      "WARNING: Ignoring invalid distribution -ensorflow-intel (c:\\users\\bytin\\anaconda3\\lib\\site-packages)\n"
     ]
    }
   ],
   "source": [
    "pip install SpeechRecognition\n"
   ]
  },
  {
   "cell_type": "code",
   "execution_count": 2,
   "metadata": {},
   "outputs": [
    {
     "name": "stdout",
     "output_type": "stream",
     "text": [
      "Collecting pyttsx3\n",
      "  Downloading pyttsx3-2.90-py3-none-any.whl (39 kB)\n",
      "Requirement already satisfied: comtypes in c:\\users\\bytin\\anaconda3\\lib\\site-packages (from pyttsx3) (1.1.10)\n",
      "Requirement already satisfied: pywin32 in c:\\users\\bytin\\anaconda3\\lib\\site-packages (from pyttsx3) (302)\n",
      "Collecting pypiwin32\n",
      "  Downloading pypiwin32-223-py3-none-any.whl (1.7 kB)\n",
      "Installing collected packages: pypiwin32, pyttsx3\n",
      "Successfully installed pypiwin32-223 pyttsx3-2.90\n",
      "Note: you may need to restart the kernel to use updated packages.\n"
     ]
    },
    {
     "name": "stderr",
     "output_type": "stream",
     "text": [
      "WARNING: Ignoring invalid distribution -ensorflow-intel (c:\\users\\bytin\\anaconda3\\lib\\site-packages)\n",
      "WARNING: Ignoring invalid distribution -ensorflow-intel (c:\\users\\bytin\\anaconda3\\lib\\site-packages)\n",
      "WARNING: Ignoring invalid distribution -ensorflow-intel (c:\\users\\bytin\\anaconda3\\lib\\site-packages)\n",
      "WARNING: Ignoring invalid distribution -ensorflow-intel (c:\\users\\bytin\\anaconda3\\lib\\site-packages)\n",
      "WARNING: Ignoring invalid distribution -ensorflow-intel (c:\\users\\bytin\\anaconda3\\lib\\site-packages)\n",
      "WARNING: Ignoring invalid distribution -ensorflow-intel (c:\\users\\bytin\\anaconda3\\lib\\site-packages)\n",
      "WARNING: Ignoring invalid distribution -ensorflow-intel (c:\\users\\bytin\\anaconda3\\lib\\site-packages)\n",
      "WARNING: Ignoring invalid distribution -ensorflow-intel (c:\\users\\bytin\\anaconda3\\lib\\site-packages)\n"
     ]
    }
   ],
   "source": [
    "pip install pyttsx3\n"
   ]
  },
  {
   "cell_type": "code",
   "execution_count": 4,
   "metadata": {},
   "outputs": [],
   "source": [
    "#Importing libraries\n",
    "import random\n",
    "import json\n",
    "import pickle\n",
    "\n",
    "import nltk\n",
    "from nltk.stem import WordNetLemmatizer\n",
    "from tensorflow.keras.models import load_model\n",
    "\n",
    "import numpy as np\n",
    "import speech_recognition as sr\n",
    "import pyttsx3\n",
    "import time\n",
    "\n",
    "#Initialization\n",
    "lemmatizer = WordNetLemmatizer()\n",
    "intents = json.loads(open(\"intentsUpdated (1).json\").read())"
   ]
  },
  {
   "cell_type": "code",
   "execution_count": 6,
   "metadata": {},
   "outputs": [
    {
     "ename": "FileNotFoundError",
     "evalue": "[Errno 2] No such file or directory: 'words.pkl'",
     "output_type": "error",
     "traceback": [
      "\u001b[1;31m---------------------------------------------------------------------------\u001b[0m",
      "\u001b[1;31mFileNotFoundError\u001b[0m                         Traceback (most recent call last)",
      "\u001b[1;32m~\\AppData\\Local\\Temp\\ipykernel_65972\\2855463927.py\u001b[0m in \u001b[0;36m<module>\u001b[1;34m\u001b[0m\n\u001b[0;32m      1\u001b[0m \u001b[1;31m# Loading the vocabulary and intent classes:\u001b[0m\u001b[1;33m\u001b[0m\u001b[1;33m\u001b[0m\u001b[0m\n\u001b[1;32m----> 2\u001b[1;33m \u001b[0mwords\u001b[0m \u001b[1;33m=\u001b[0m \u001b[0mpickle\u001b[0m\u001b[1;33m.\u001b[0m\u001b[0mload\u001b[0m\u001b[1;33m(\u001b[0m\u001b[0mopen\u001b[0m\u001b[1;33m(\u001b[0m\u001b[1;34m'words.pkl'\u001b[0m\u001b[1;33m,\u001b[0m \u001b[1;34m'rb'\u001b[0m\u001b[1;33m)\u001b[0m\u001b[1;33m)\u001b[0m\u001b[1;33m\u001b[0m\u001b[1;33m\u001b[0m\u001b[0m\n\u001b[0m\u001b[0;32m      3\u001b[0m \u001b[0mclasses\u001b[0m \u001b[1;33m=\u001b[0m \u001b[0mpickle\u001b[0m\u001b[1;33m.\u001b[0m\u001b[0mload\u001b[0m\u001b[1;33m(\u001b[0m\u001b[0mopen\u001b[0m\u001b[1;33m(\u001b[0m\u001b[1;34m'classes.pkl'\u001b[0m\u001b[1;33m,\u001b[0m \u001b[1;34m'rb'\u001b[0m\u001b[1;33m)\u001b[0m\u001b[1;33m)\u001b[0m\u001b[1;33m\u001b[0m\u001b[1;33m\u001b[0m\u001b[0m\n\u001b[0;32m      4\u001b[0m \u001b[1;31m# Loading the pre-trained model:\u001b[0m\u001b[1;33m\u001b[0m\u001b[1;33m\u001b[0m\u001b[0m\n\u001b[0;32m      5\u001b[0m \u001b[0mmodel\u001b[0m \u001b[1;33m=\u001b[0m \u001b[0mload_model\u001b[0m\u001b[1;33m(\u001b[0m\u001b[1;34m'chatbot_model.h5'\u001b[0m\u001b[1;33m)\u001b[0m\u001b[1;33m\u001b[0m\u001b[1;33m\u001b[0m\u001b[0m\n",
      "\u001b[1;31mFileNotFoundError\u001b[0m: [Errno 2] No such file or directory: 'words.pkl'"
     ]
    }
   ],
   "source": [
    "# Loading the vocabulary and intent classes:\n",
    "words = pickle.load(open('words.pkl', 'rb'))\n",
    "classes = pickle.load(open('classes.pkl', 'rb'))\n",
    "# Loading the pre-trained model:\n",
    "model = load_model('chatbot_model.h5')"
   ]
  },
  {
   "cell_type": "code",
   "execution_count": 3,
   "metadata": {},
   "outputs": [],
   "source": [
    "# Tokenization and Lemmatization\n",
    "def clean_up_sentence(sentence):\n",
    "    sentence_words = nltk.word_tokenize(sentence)\n",
    "    sentence_words = [lemmatizer.lemmatize(word)\n",
    "                      for word in sentence_words]\n",
    " \n",
    "    return sentence_words\n",
    " \n"
   ]
  },
  {
   "cell_type": "code",
   "execution_count": 4,
   "metadata": {},
   "outputs": [],
   "source": [
    " # Converting bag-of-words vector to a NumPy array\n",
    "def bag_of_words(sentence):\n",
    "    sentence_words = clean_up_sentence(sentence)\n",
    "    bag = [0] * len(words)\n",
    " \n",
    "    for w in sentence_words:\n",
    "        for i, word in enumerate(words):\n",
    "            if word == w:\n",
    "                bag[i] = 1\n",
    "    return np.array(bag)\n",
    " \n",
    " \n"
   ]
  },
  {
   "cell_type": "code",
   "execution_count": 5,
   "metadata": {},
   "outputs": [],
   "source": [
    "# Predicting intent of a given sentence using pre-trained model\n",
    "def predict_class(sentence):\n",
    "    bow = bag_of_words(sentence)\n",
    "    res = model.predict(np.array([bow]))[0]\n",
    " \n",
    "    ERROR_THRESHOLD = 0.25\n",
    " \n",
    "    results = [[i, r] for i, r in enumerate(res) if r > ERROR_THRESHOLD]\n",
    "    if not results:\n",
    "        print(\"No prediction confidence above threshold.\")\n",
    "        return []\n",
    " \n",
    "    results.sort(key=lambda x: x[1], reverse=True)\n",
    " \n",
    "    return_list = []\n",
    " \n",
    "    for r in results:\n",
    "        return_list.append({'intent': classes[r[0]],\n",
    "                            'probability': str(r[1])})\n",
    "    return return_list\n",
    " \n",
    " \n"
   ]
  },
  {
   "cell_type": "code",
   "execution_count": 6,
   "metadata": {},
   "outputs": [],
   "source": [
    "# Retrieving a response based on the predicted intent\n",
    "def get_response(intents_list, intents_json):\n",
    "    tag = intents_list[0]['intent']\n",
    "    list_of_intents = intents_json['intents']\n",
    " \n",
    "    result = ''\n",
    " \n",
    "    for i in list_of_intents:\n",
    "        if i['tag'] == tag:\n",
    "            result = random.choice(i['responses'])\n",
    "            break\n",
    "    return result"
   ]
  },
  {
   "cell_type": "code",
   "execution_count": 7,
   "metadata": {},
   "outputs": [],
   "source": [
    "# This function will take the voice input converted\n",
    "# into string as input and predict and return the result in both\n",
    "# text as well as voice format.\n",
    "def calling_the_bot(txt):\n",
    "    global res\n",
    "    try:\n",
    "        predict = predict_class(txt) # Trying to make predictions and get a response\n",
    "        \n",
    "        res = get_response(predict, intents)\n",
    "    \n",
    "        engine.say(\"Found it. From our Database we found that\" + res) # Speech synthesis and printing the result:\n",
    "        # engine.say(res)\n",
    "        engine.runAndWait()\n",
    "        print(\"Your Symptom was  : \", txt)\n",
    "        print(\"Result found in our Database : \", res)\n",
    "    except Exception as e: # Exception handling\n",
    "        print(\"An error occurred:\", str(e))\n",
    "        engine.say(\"Unable to find a confident enough prediction.\")\n",
    "        return \"An error occurred while processing your request.\""
   ]
  },
  {
   "cell_type": "code",
   "execution_count": 8,
   "metadata": {},
   "outputs": [
    {
     "name": "stdout",
     "output_type": "stream",
     "text": [
      "Bot is Running\n",
      "You have chosen to continue with Female Voice\n",
      "Say Your Symptoms. The Bot is Listening\n",
      "1/1 [==============================] - 0s 174ms/step\n",
      "Your Symptom was  :  sneezing and coughing\n",
      "Result found in our Database :  According to your symptoms you might have Allergies\n",
      "Bot has been stopped by the user\n"
     ]
    }
   ],
   "source": [
    "# Speech recognition and text-to-speech process to enable voice-based interaction\n",
    "if __name__ == '__main__':\n",
    "    print(\"Bot is Running\")\n",
    " \n",
    "    recognizer = sr.Recognizer()\n",
    "    mic = sr.Microphone()\n",
    " \n",
    "    engine = pyttsx3.init()\n",
    "    rate = engine.getProperty('rate')\n",
    " \n",
    "    # Increase the rate of the bot according to need,\n",
    "    # Faster the rate, faster it will speak, vice versa for slower.\n",
    " \n",
    "    engine.setProperty('rate', 175)\n",
    " \n",
    "    # Increase or decrease the bot's volume\n",
    "    volume = engine.getProperty('volume')\n",
    "    engine.setProperty('volume', 1.0)\n",
    " \n",
    "    voices = engine.getProperty('voices')\n",
    " \n",
    "    \"\"\"User Might Skip the following Part till the start of While Loop\"\"\"\n",
    "    engine.say(\n",
    "        \"Hello user, I am NLP Medical Chat bot, your personal Talking Healthcare Chatbot.\")\n",
    "    engine.runAndWait()\n",
    " \n",
    "    engine.say(\n",
    "        \"IF YOU WANT TO CONTINUE WITH MALE VOICE PLEASE\\\n",
    "        SAY MALE. OTHERWISE SAY FEMALE.\")\n",
    "    engine.runAndWait()\n",
    " \n",
    "    # Asking for the MALE or FEMALE voice.\n",
    "    with mic as source:\n",
    "        recognizer.adjust_for_ambient_noise(source)\n",
    "        try:\n",
    "            audio = recognizer.listen(source)\n",
    "            choice = recognizer.recognize_google(audio).lower()\n",
    "        except sr.UnknownValueError:\n",
    "            engine.say(\"I didn't catch that. Please repeat.\")\n",
    "            engine.runAndWait()\n",
    "            choice = \"Male\"\n",
    " \n",
    "    # If the user says Female then the bot will speak in female voice.\n",
    "    if choice == \"Female\".lower():\n",
    "        engine.setProperty('voice', voices[1].id)\n",
    "        print(\"You have chosen to continue with Female Voice\")\n",
    "    else:\n",
    "        engine.setProperty('voice', voices[0].id)\n",
    "        print(\"You have chosen to continue with Male Voice\")\n",
    " \n",
    "    \"\"\"User might skip till HERE\"\"\"\n",
    " \n",
    "    while True or final.lower() == 'True':\n",
    "        with mic as symptom:\n",
    "            print(\"Say Your Symptoms. The Bot is Listening\")\n",
    "            engine.say(\"You may tell me your symptoms now. I am listening\")\n",
    "            engine.runAndWait()\n",
    "            try:\n",
    "                recognizer.adjust_for_ambient_noise(symptom)\n",
    "                symp = recognizer.listen(symptom)\n",
    "                text = recognizer.recognize_google(symp)\n",
    "                engine.say(\"You said {}\".format(text))\n",
    "                engine.runAndWait()\n",
    " \n",
    "                engine.say(\n",
    "                    \"Scanning our database for your symptom. Please wait.\")\n",
    "                engine.runAndWait()\n",
    " \n",
    "                time.sleep(1)\n",
    " \n",
    "                # Calling the function by passing the voice inputted\n",
    "                # symptoms converted into string\n",
    "                calling_the_bot(text)\n",
    "            except sr.UnknownValueError:\n",
    "                engine.say(\n",
    "                    \"Sorry, Either your symptom is unclear to me or it is\\\n",
    "                    not present in our database. Please Try Again.\")\n",
    "                engine.runAndWait()\n",
    " \n",
    "            engine.say(\"If you want to continue, please say 'yes', otherwise say 'no'.\")\n",
    "            engine.runAndWait()\n",
    " \n",
    "        with mic as ans:\n",
    "            recognizer.adjust_for_ambient_noise(ans) \n",
    "            try:\n",
    "                voice = recognizer.listen(ans)\n",
    "                final = recognizer.recognize_google(voice)\n",
    "            except sr.UnknownValueError:\n",
    "                final = \"no\"\n",
    " \n",
    "        if final.lower() in ['no', 'please exit', 'exit']:\n",
    "            engine.say(\"Thank You. Shutting Down now.\")\n",
    "            engine.runAndWait()\n",
    "            print(\"Bot has been stopped by the user\")\n",
    "            break"
   ]
  },
  {
   "cell_type": "code",
   "execution_count": 9,
   "metadata": {},
   "outputs": [
    {
     "name": "stdout",
     "output_type": "stream",
     "text": [
      "Chatbot is Running\n",
      "Hello! I am NLP Medical Chat bot, your personal Healthcare Chatbot.\n",
      "Please type your symptoms, or type 'exit' to stop: sneezing and coughing\n",
      "1/1 [==============================] - 0s 50ms/step\n",
      "Your Symptom was  :  sneezing and coughing\n",
      "Result found in our Database :  I suppose you have Allergies\n",
      "Do you want to continue? (yes/no): no\n",
      "Exiting. Thank you for using the chatbot.\n"
     ]
    }
   ],
   "source": [
    "# Text-based interface for interacting with the medical chatbot\n",
    "if __name__ == '__main__':\n",
    "    print(\"Chatbot is Running\")\n",
    "    print(\"Hello! I am NLP Medical Chat bot, your personal Healthcare Chatbot.\")\n",
    "    \n",
    "    # Loop to handle chat interactions until the user decides to exit\n",
    "    while True:\n",
    "        text = input(\"Please type your symptoms, or type 'exit' to stop: \")\n",
    "        \n",
    "        if text.lower() == 'exit':\n",
    "            print(\"Thank You. Shutting down now.\")\n",
    "            break\n",
    "\n",
    "        # Call the function with the user's text input\n",
    "        calling_the_bot(text)\n",
    "        \n",
    "        # Ask if the user wants to continue\n",
    "        continue_chat = input(\"Do you want to continue? (yes/no): \")\n",
    "        if continue_chat.lower() not in ['yes', 'y']:\n",
    "            print(\"Exiting. Thank you for using the chatbot.\")\n",
    "            break"
   ]
  }
 ],
 "metadata": {
  "kernelspec": {
   "display_name": "Python 3 (ipykernel)",
   "language": "python",
   "name": "python3"
  },
  "language_info": {
   "codemirror_mode": {
    "name": "ipython",
    "version": 3
   },
   "file_extension": ".py",
   "mimetype": "text/x-python",
   "name": "python",
   "nbconvert_exporter": "python",
   "pygments_lexer": "ipython3",
   "version": "3.9.13"
  }
 },
 "nbformat": 4,
 "nbformat_minor": 2
}
